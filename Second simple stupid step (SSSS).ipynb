{
 "cells": [
  {
   "cell_type": "code",
   "execution_count": 104,
   "metadata": {
    "collapsed": true
   },
   "outputs": [],
   "source": [
    "import os\n",
    "import numpy as np\n",
    "import pandas as pd\n",
    "import matplotlib.pyplot as plt\n",
    "%matplotlib inline\n",
    "from sklearn.model_selection import train_test_split\n",
    "from sklearn.model_selection import cross_val_score\n",
    "import sklearn.metrics as metrics\n",
    "from sklearn import svm"
   ]
  },
  {
   "cell_type": "code",
   "execution_count": 105,
   "metadata": {
    "collapsed": true
   },
   "outputs": [],
   "source": [
    "data_path = 'Data_new/data/'"
   ]
  },
  {
   "cell_type": "code",
   "execution_count": 106,
   "metadata": {
    "collapsed": true
   },
   "outputs": [],
   "source": [
    "def read_file(data_path):\n",
    "    file_number = 0\n",
    "    file_to_work = list()\n",
    "    for filename in os.listdir(data_path):\n",
    "        if filename.endswith(\".csv\"):\n",
    "            file_number += 1\n",
    "            file_to_work.append(data_path + filename)\n",
    "    return(file_to_work, file_number)"
   ]
  },
  {
   "cell_type": "code",
   "execution_count": 107,
   "metadata": {},
   "outputs": [],
   "source": [
    "file_list, file_number = read_file(data_path)"
   ]
  },
  {
   "cell_type": "code",
   "execution_count": 108,
   "metadata": {},
   "outputs": [
    {
     "name": "stdout",
     "output_type": "stream",
     "text": [
      "All data sets: 15\n"
     ]
    }
   ],
   "source": [
    "print('All datasets:', file_number)"
   ]
  },
  {
   "cell_type": "code",
   "execution_count": 109,
   "metadata": {},
   "outputs": [
    {
     "data": {
      "text/plain": [
       "['Data_new/data/1.csv',\n",
       " 'Data_new/data/10.csv',\n",
       " 'Data_new/data/11.csv',\n",
       " 'Data_new/data/12.csv',\n",
       " 'Data_new/data/13.csv',\n",
       " 'Data_new/data/14.csv',\n",
       " 'Data_new/data/15.csv',\n",
       " 'Data_new/data/2.csv',\n",
       " 'Data_new/data/3.csv',\n",
       " 'Data_new/data/4.csv',\n",
       " 'Data_new/data/5.csv',\n",
       " 'Data_new/data/6.csv',\n",
       " 'Data_new/data/7.csv',\n",
       " 'Data_new/data/8.csv',\n",
       " 'Data_new/data/9.csv']"
      ]
     },
     "execution_count": 109,
     "metadata": {},
     "output_type": "execute_result"
    }
   ],
   "source": [
    "file_list"
   ]
  },
  {
   "cell_type": "code",
   "execution_count": 110,
   "metadata": {
    "collapsed": true
   },
   "outputs": [],
   "source": [
    "def get_data_from_file(file):\n",
    "    columns_name = ['Seq_number', 'X', 'Y', 'Z', 'Mark']\n",
    "    data = pd.read_csv(file)\n",
    "    data.columns = columns_name\n",
    "    return data"
   ]
  },
  {
   "cell_type": "code",
   "execution_count": 111,
   "metadata": {
    "collapsed": true
   },
   "outputs": [],
   "source": [
    "def check_data(data):\n",
    "    nan_flag = False\n",
    "    for c in data.columns:\n",
    "        if any(data[c] == np.nan):\n",
    "            print(c, 'contains NaNs')\n",
    "            nan_flag = True\n",
    "        if not nan_flag:\n",
    "            print('No missing values in column', c)\n",
    "    print('\\n')\n",
    "    pass"
   ]
  },
  {
   "cell_type": "code",
   "execution_count": 112,
   "metadata": {
    "collapsed": true
   },
   "outputs": [],
   "source": [
    "def data_clean(data):\n",
    "    return data[data.Mark != 0]"
   ]
  },
  {
   "cell_type": "code",
   "execution_count": 113,
   "metadata": {
    "collapsed": true
   },
   "outputs": [],
   "source": [
    "def preapre_test_marks(y_test):\n",
    "    for i in range(len(y_test)):\n",
    "        y_test.iat[i] = 1\n",
    "    return y_test"
   ]
  },
  {
   "cell_type": "code",
   "execution_count": 114,
   "metadata": {
    "collapsed": true
   },
   "outputs": [],
   "source": [
    "def data_prepare(data):\n",
    "    X = data.drop(['Seq_number', 'Mark'], axis=1)\n",
    "    y = data['Mark']\n",
    "    return X, y"
   ]
  },
  {
   "cell_type": "code",
   "execution_count": 115,
   "metadata": {
    "collapsed": true
   },
   "outputs": [],
   "source": [
    "def split_data(data):\n",
    "    X = data.drop(['Seq_number', 'Mark'], axis=1)\n",
    "    y = data['Mark']\n",
    "    X_train, X_test, y_train, y_test = train_test_split(X, y, test_size = 0.3, random_state=42, stratify = data['Mark'])\n",
    "    y_test = preapre_test_marks(y_test)\n",
    "    y_train = preapre_test_marks(y_test)\n",
    "    return X_train, X_test, y_train, y_test\n",
    "    "
   ]
  },
  {
   "cell_type": "code",
   "execution_count": 116,
   "metadata": {
    "collapsed": true
   },
   "outputs": [],
   "source": [
    "def model_build(model, X_train):\n",
    "    model.fit(X_train)\n",
    "    return model"
   ]
  },
  {
   "cell_type": "code",
   "execution_count": 117,
   "metadata": {
    "collapsed": true
   },
   "outputs": [],
   "source": [
    "def model_evaluation(model, X_test, y_test, algorithm_name):\n",
    "    pred = model.predict(X_test)\n",
    "    print(algorithm_name, 'Accuracy:', metrics.accuracy_score(y_test, pred))\n",
    "    print(algorithm_name, 'F1 score:', metrics.f1_score(y_test, pred), '\\n')\n",
    "    pass"
   ]
  },
  {
   "cell_type": "code",
   "execution_count": 118,
   "metadata": {
    "collapsed": true
   },
   "outputs": [],
   "source": [
    "outliers_fraction = 0.15"
   ]
  },
  {
   "cell_type": "code",
   "execution_count": 119,
   "metadata": {
    "collapsed": true
   },
   "outputs": [],
   "source": [
    "anomaly_algorithms = [('One-Class SVM', svm.OneClassSVM(nu=outliers_fraction, kernel='rbf', gamma=0.00001))]"
   ]
  },
  {
   "cell_type": "markdown",
   "metadata": {},
   "source": [
    "For an one-class model, +1 or -1 is returned."
   ]
  },
  {
   "cell_type": "markdown",
   "metadata": {},
   "source": [
    "## For one data set file_list[1] Data_new/data/10.csv algorithm comparison"
   ]
  },
  {
   "cell_type": "code",
   "execution_count": 120,
   "metadata": {},
   "outputs": [],
   "source": [
    "file = 'Data_new/data/10.csv'\n",
    "data = get_data_from_file(file)\n",
    "data_cleaned = data_clean(data)"
   ]
  },
  {
   "cell_type": "code",
   "execution_count": 121,
   "metadata": {},
   "outputs": [
    {
     "name": "stdout",
     "output_type": "stream",
     "text": [
      "<class 'pandas.core.frame.DataFrame'>\n",
      "Int64Index: 126799 entries, 0 to 126798\n",
      "Data columns (total 5 columns):\n",
      "Seq_number    126799 non-null float64\n",
      "X             126799 non-null int64\n",
      "Y             126799 non-null int64\n",
      "Z             126799 non-null int64\n",
      "Mark          126799 non-null int64\n",
      "dtypes: float64(1), int64(4)\n",
      "memory usage: 5.8 MB\n"
     ]
    }
   ],
   "source": [
    "data_cleaned.info()"
   ]
  },
  {
   "cell_type": "code",
   "execution_count": 122,
   "metadata": {},
   "outputs": [
    {
     "data": {
      "text/plain": [
       "1    44049\n",
       "3    23596\n",
       "7    22231\n",
       "4    22149\n",
       "6     7449\n",
       "5     3890\n",
       "2     3435\n",
       "Name: Mark, dtype: int64"
      ]
     },
     "execution_count": 122,
     "metadata": {},
     "output_type": "execute_result"
    }
   ],
   "source": [
    "data_cleaned['Mark'].value_counts()"
   ]
  },
  {
   "cell_type": "code",
   "execution_count": 123,
   "metadata": {},
   "outputs": [
    {
     "name": "stdout",
     "output_type": "stream",
     "text": [
      "<class 'pandas.core.frame.DataFrame'>\n",
      "Int64Index: 126799 entries, 0 to 126798\n",
      "Data columns (total 5 columns):\n",
      "Seq_number    126799 non-null float64\n",
      "X             126799 non-null int64\n",
      "Y             126799 non-null int64\n",
      "Z             126799 non-null int64\n",
      "Mark          126799 non-null int64\n",
      "dtypes: float64(1), int64(4)\n",
      "memory usage: 5.8 MB\n"
     ]
    }
   ],
   "source": [
    "data_cleaned.info()"
   ]
  },
  {
   "cell_type": "code",
   "execution_count": 124,
   "metadata": {
    "collapsed": true
   },
   "outputs": [],
   "source": [
    "X_train, X_test, y_train, y_test = split_data(data_cleaned)"
   ]
  },
  {
   "cell_type": "code",
   "execution_count": 125,
   "metadata": {},
   "outputs": [
    {
     "data": {
      "text/plain": [
       "88759"
      ]
     },
     "execution_count": 125,
     "metadata": {},
     "output_type": "execute_result"
    }
   ],
   "source": [
    "len(X_train)"
   ]
  },
  {
   "cell_type": "code",
   "execution_count": 126,
   "metadata": {},
   "outputs": [
    {
     "data": {
      "text/plain": [
       "88759"
      ]
     },
     "execution_count": 126,
     "metadata": {},
     "output_type": "execute_result"
    }
   ],
   "source": [
    "y_train = np.ones((len(X_train),), dtype=int)\n",
    "y_train.fill(-1)\n",
    "len(y_train)"
   ]
  },
  {
   "cell_type": "code",
   "execution_count": 127,
   "metadata": {},
   "outputs": [
    {
     "data": {
      "text/plain": [
       "38040"
      ]
     },
     "execution_count": 127,
     "metadata": {},
     "output_type": "execute_result"
    }
   ],
   "source": [
    "len(X_test)"
   ]
  },
  {
   "cell_type": "code",
   "execution_count": 128,
   "metadata": {},
   "outputs": [
    {
     "data": {
      "text/plain": [
       "38040"
      ]
     },
     "execution_count": 128,
     "metadata": {},
     "output_type": "execute_result"
    }
   ],
   "source": [
    "len(y_test)"
   ]
  },
  {
   "cell_type": "code",
   "execution_count": 132,
   "metadata": {
    "collapsed": true
   },
   "outputs": [],
   "source": [
    "def run_model(file, anomaly_algorithms):\n",
    "    data = get_data_from_file(file)\n",
    "    check_data(data)\n",
    "    data_cleaned = data_clean(data)\n",
    "    #X, y = data_prepare(data_cleaned)\n",
    "    X_train, X_test, y_train, y_test = split_data(data_cleaned)\n",
    "    y_train = np.ones((len(X_train),), dtype=int)\n",
    "    y_train.fill(1)\n",
    "    for algorithms in anomaly_algorithms:\n",
    "        model_evaluation(model_build(algorithms[1], X_train), X_test, y_test, algorithms[0])\n",
    "    pass"
   ]
  },
  {
   "cell_type": "code",
   "execution_count": 133,
   "metadata": {},
   "outputs": [
    {
     "name": "stdout",
     "output_type": "stream",
     "text": [
      "No missing values in column Seq_number\n",
      "No missing values in column X\n",
      "No missing values in column Y\n",
      "No missing values in column Z\n",
      "No missing values in column Mark\n",
      "\n",
      "\n",
      "One-Class SVM Accuracy: 0.851393270242\n",
      "One-Class SVM F1 score: 0.91973248896 \n",
      "\n"
     ]
    }
   ],
   "source": [
    "run_model(file_list[1], anomaly_algorithms)"
   ]
  },
  {
   "cell_type": "code",
   "execution_count": 134,
   "metadata": {
    "collapsed": true
   },
   "outputs": [],
   "source": [
    "#fit model at full dataset\n",
    "data = get_data_from_file(file)\n",
    "data_cleaned = data_clean(data)\n",
    "X = data.drop(['Seq_number', 'Mark'], axis=1)\n",
    "model = svm.OneClassSVM(nu=outliers_fraction, kernel='rbf', gamma=0.00001)\n",
    "full_data_model = model_build(model, X)"
   ]
  },
  {
   "cell_type": "markdown",
   "metadata": {
    "collapsed": true
   },
   "source": [
    "## For all data sets model evaluation"
   ]
  },
  {
   "cell_type": "code",
   "execution_count": 135,
   "metadata": {
    "collapsed": true
   },
   "outputs": [],
   "source": [
    "file_list_val = ['Data_new/data/1.csv',\n",
    " 'Data_new/data/11.csv',\n",
    " 'Data_new/data/12.csv',\n",
    " 'Data_new/data/13.csv',\n",
    " 'Data_new/data/14.csv',\n",
    " 'Data_new/data/15.csv',\n",
    " 'Data_new/data/2.csv',\n",
    " 'Data_new/data/3.csv',\n",
    " 'Data_new/data/4.csv',\n",
    " 'Data_new/data/5.csv',\n",
    " 'Data_new/data/6.csv',\n",
    " 'Data_new/data/7.csv',\n",
    " 'Data_new/data/8.csv',\n",
    " 'Data_new/data/9.csv']"
   ]
  },
  {
   "cell_type": "code",
   "execution_count": 138,
   "metadata": {},
   "outputs": [
    {
     "name": "stdout",
     "output_type": "stream",
     "text": [
      "1.csv\n",
      "One-Class SVM Accuracy: 0.999993846116\n",
      "One-Class SVM F1 score: 0.0 \n",
      "\n",
      "11.csv\n"
     ]
    },
    {
     "name": "stderr",
     "output_type": "stream",
     "text": [
      "C:\\Users\\User\\Anaconda3\\lib\\site-packages\\sklearn\\metrics\\classification.py:1137: UndefinedMetricWarning: F-score is ill-defined and being set to 0.0 due to no true samples.\n",
      "  'recall', 'true', average, warn_for)\n"
     ]
    },
    {
     "name": "stdout",
     "output_type": "stream",
     "text": [
      "One-Class SVM Accuracy: 0.993106683645\n",
      "One-Class SVM F1 score: 0.0 \n",
      "\n",
      "12.csv\n",
      "One-Class SVM Accuracy: 0.999982563208\n",
      "One-Class SVM F1 score: 0.0 \n",
      "\n",
      "13.csv\n",
      "One-Class SVM Accuracy: 0.994663631391\n",
      "One-Class SVM F1 score: 0.0 \n",
      "\n",
      "14.csv\n",
      "One-Class SVM Accuracy: 1.0\n",
      "One-Class SVM F1 score: 0.0 \n",
      "\n",
      "15.csv\n",
      "One-Class SVM Accuracy: 0.386235615803\n",
      "One-Class SVM F1 score: 0.0 \n",
      "\n",
      "2.csv\n",
      "One-Class SVM Accuracy: 0.997371669208\n",
      "One-Class SVM F1 score: 0.0 \n",
      "\n",
      "3.csv\n",
      "One-Class SVM Accuracy: 0.998749254927\n",
      "One-Class SVM F1 score: 0.0 \n",
      "\n",
      "4.csv\n",
      "One-Class SVM Accuracy: 0.99033543646\n",
      "One-Class SVM F1 score: 0.0 \n",
      "\n",
      "5.csv\n",
      "One-Class SVM Accuracy: 0.999937499609\n",
      "One-Class SVM F1 score: 0.0 \n",
      "\n",
      "6.csv\n",
      "One-Class SVM Accuracy: 0.996189636665\n",
      "One-Class SVM F1 score: 0.0 \n",
      "\n",
      "7.csv\n",
      "One-Class SVM Accuracy: 0.999877299861\n",
      "One-Class SVM F1 score: 0.0 \n",
      "\n",
      "8.csv\n",
      "One-Class SVM Accuracy: 0.99999274279\n",
      "One-Class SVM F1 score: 0.0 \n",
      "\n",
      "9.csv\n",
      "One-Class SVM Accuracy: 0.149927628726\n",
      "One-Class SVM F1 score: 0.0 \n",
      "\n"
     ]
    }
   ],
   "source": [
    "for file in file_list_val:\n",
    "    data = get_data_from_file(file)\n",
    "    data = data_clean(data)\n",
    "    X = data.drop(['Seq_number', 'Mark'], axis=1)\n",
    "    y = np.ones((len(X),), dtype=int)\n",
    "    y.fill(-1)\n",
    "    print(file.split('/')[2])\n",
    "    model_evaluation(full_data_model, X, y, 'One-Class SVM')  "
   ]
  },
  {
   "cell_type": "markdown",
   "metadata": {
    "collapsed": true
   },
   "source": [
    "Reference Papers"
   ]
  },
  {
   "cell_type": "markdown",
   "metadata": {},
   "source": [
    "\n",
    "https://www.ncbi.nlm.nih.gov/pmc/articles/PMC4029702/\n",
    "    \n",
    "https://www.researchgate.net/figure/In-the-dynamic-windowing-strategy-the-feature-extraction-uses-a-sliding-window-of-width_fig2_279137283\n",
    "\n",
    "https://dsp.stackexchange.com/questions/36513/applying-a-window-function-to-a-speech-signal\n",
    "\n",
    "https://pdfs.semanticscholar.org/8c18/b86e75f068b59a5ac9c334c1bc59fff5d328.pdf\n",
    "\n",
    "https://cs.uwaterloo.ca/~s255khan/files/KER_sskmm_final.pdf\n",
    "\n",
    "http://scikit-learn.org/stable/modules/generated/sklearn.svm.OneClassSVM.html\n",
    "\n",
    "http://scikit-learn.org/stable/modules/outlier_detection.html\n",
    "\n",
    "https://www.researchgate.net/publication/221258784_Human_Activity_Recognition_from_Accelerometer_Data_Using_at_Wearable_Device?ev=prf_pub\n",
    "\n",
    "https://www.researchgate.net/publication/227192676_Personalization_and_user_verification_in_wearable_systems_using_biometric_walking_patterns?ev=prf_pub"
   ]
  }
 ],
 "metadata": {
  "kernelspec": {
   "display_name": "Python 3",
   "language": "python",
   "name": "python3"
  },
  "language_info": {
   "codemirror_mode": {
    "name": "ipython",
    "version": 3
   },
   "file_extension": ".py",
   "mimetype": "text/x-python",
   "name": "python",
   "nbconvert_exporter": "python",
   "pygments_lexer": "ipython3",
   "version": "3.6.3"
  }
 },
 "nbformat": 4,
 "nbformat_minor": 2
}
